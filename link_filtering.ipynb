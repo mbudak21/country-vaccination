{
 "cells": [
  {
   "cell_type": "code",
   "execution_count": null,
   "metadata": {},
   "outputs": [],
   "source": [
    "import pandas as pd\n",
    "import re\n"
   ]
  },
  {
   "cell_type": "code",
   "execution_count": null,
   "metadata": {},
   "outputs": [],
   "source": [
    "\n",
    "# Assuming the data is loaded into a DataFrame\n",
    "data = {\n",
    "    'Device_Type': ['AXO145', 'TRU151', 'ZOD231', 'YRT326', 'LWR245'],\n",
    "    'Stats_Access_Link': [\n",
    "        '<url>https://xcd32112.smart_meter.com</url>',\n",
    "        '<url>http://txh67.dia_meter.com</url>',\n",
    "        '<url>http://yt5495.smart_meter.com</url>',\n",
    "        '<url>https://ret323_TRu.crown.com</url>',\n",
    "        '<url>https://lwr3243.celcius.com</url>'\n",
    "    ]\n",
    "}\n",
    "\n",
    "df = pd.DataFrame(data)\n",
    "df"
   ]
  },
  {
   "cell_type": "code",
   "execution_count": null,
   "metadata": {},
   "outputs": [],
   "source": [
    "\n",
    "\n",
    "def extract_url(link):\n",
    "    match = re.search(r'<url>https?://([a-z0-9_\\.]+)</url>', link, re.IGNORECASE)\n",
    "    if match:\n",
    "        return match.group(1)\n",
    "    return None\n",
    "\n",
    "df['Stats_Access_Link'] = df['Stats_Access_Link'].apply(extract_url)\n",
    "\n",
    "df"
   ]
  }
 ],
 "metadata": {
  "kernelspec": {
   "display_name": "Python 3",
   "language": "python",
   "name": "python3"
  },
  "language_info": {
   "codemirror_mode": {
    "name": "ipython",
    "version": 3
   },
   "file_extension": ".py",
   "mimetype": "text/x-python",
   "name": "python",
   "nbconvert_exporter": "python",
   "pygments_lexer": "ipython3",
   "version": "3.12.3"
  }
 },
 "nbformat": 4,
 "nbformat_minor": 2
}
