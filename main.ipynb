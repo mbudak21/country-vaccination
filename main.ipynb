{
 "cells": [
  {
   "cell_type": "code",
   "execution_count": 45,
   "metadata": {},
   "outputs": [],
   "source": [
    "import pandas as pd\n",
    "import numpy as np\n",
    "import matplotlib.pyplot as plt\n",
    "\n"
   ]
  },
  {
   "cell_type": "code",
   "execution_count": 46,
   "metadata": {},
   "outputs": [],
   "source": [
    "def load_data() -> pd.DataFrame:\n",
    "    dataset = \"country_vaccination_stats.csv\"\n",
    "    data = pd.read_csv(dataset)\n",
    "    return data"
   ]
  },
  {
   "cell_type": "code",
   "execution_count": 47,
   "metadata": {},
   "outputs": [],
   "source": [
    "def get_minimum_vaccination(data: pd.DataFrame, country: str) -> float:\n",
    "    country_data = data[data['country'] == country]\n",
    "    value = country_data['daily_vaccinations'].min()\n",
    "    if pd.isna(value):\n",
    "        return 0\n",
    "    else:\n",
    "        return value"
   ]
  },
  {
   "cell_type": "code",
   "execution_count": 48,
   "metadata": {},
   "outputs": [
    {
     "name": "stdout",
     "output_type": "stream",
     "text": [
      "        country        date  daily_vaccinations  \\\n",
      "0     Argentina  12/29/2020              6483.0   \n",
      "1     Argentina  12/30/2020             15656.0   \n",
      "2     Argentina  12/31/2020             15656.0   \n",
      "3     Argentina    1/1/2021             11070.0   \n",
      "4     Argentina    1/2/2021              8776.0   \n",
      "...         ...         ...                 ...   \n",
      "1497      Wales   1/20/2021             11105.0   \n",
      "1498      Wales   1/21/2021             12318.0   \n",
      "1499      Wales   1/22/2021             15148.0   \n",
      "1500      Wales   1/23/2021             17371.0   \n",
      "1501      Wales   1/24/2021             17063.0   \n",
      "\n",
      "                                 vaccines  \n",
      "0                               Sputnik V  \n",
      "1                               Sputnik V  \n",
      "2                               Sputnik V  \n",
      "3                               Sputnik V  \n",
      "4                               Sputnik V  \n",
      "...                                   ...  \n",
      "1497  Oxford/AstraZeneca, Pfizer/BioNTech  \n",
      "1498  Oxford/AstraZeneca, Pfizer/BioNTech  \n",
      "1499  Oxford/AstraZeneca, Pfizer/BioNTech  \n",
      "1500  Oxford/AstraZeneca, Pfizer/BioNTech  \n",
      "1501  Oxford/AstraZeneca, Pfizer/BioNTech  \n",
      "\n",
      "[1502 rows x 4 columns]\n"
     ]
    }
   ],
   "source": [
    "def fill_missing_data(pd_data: pd.DataFrame) -> pd.DataFrame:\n",
    "    for country in pd_data['country'].unique():\n",
    "        country_data = pd_data[pd_data['country'] == country]\n",
    "        for index, row in country_data.iterrows():\n",
    "            if pd.isna(row['daily_vaccinations']):\n",
    "                pd_data.at[index, 'daily_vaccinations'] = get_minimum_vaccination(pd_data, country) \n",
    "    return pd_data\n",
    "\n",
    "# Example usage\n",
    "data = load_data()\n",
    "filled_data = fill_missing_data(data)\n",
    "print(filled_data)"
   ]
  }
 ],
 "metadata": {
  "kernelspec": {
   "display_name": "Python 3",
   "language": "python",
   "name": "python3"
  },
  "language_info": {
   "codemirror_mode": {
    "name": "ipython",
    "version": 3
   },
   "file_extension": ".py",
   "mimetype": "text/x-python",
   "name": "python",
   "nbconvert_exporter": "python",
   "pygments_lexer": "ipython3",
   "version": "3.12.3"
  }
 },
 "nbformat": 4,
 "nbformat_minor": 2
}
