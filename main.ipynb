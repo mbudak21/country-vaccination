{
 "cells": [
  {
   "cell_type": "code",
   "execution_count": 2,
   "metadata": {},
   "outputs": [],
   "source": [
    "import pandas as pd\n",
    "import numpy as np\n",
    "import matplotlib.pyplot as plt\n",
    "#pd.options.mode.copy_on_write = True"
   ]
  },
  {
   "cell_type": "code",
   "execution_count": 3,
   "metadata": {},
   "outputs": [],
   "source": [
    "def load_data() -> pd.DataFrame:\n",
    "    dataset = \"country_vaccination_stats.csv\"\n",
    "    data = pd.read_csv(dataset)\n",
    "    return data"
   ]
  },
  {
   "cell_type": "code",
   "execution_count": 12,
   "metadata": {},
   "outputs": [
    {
     "data": {
      "text/html": [
       "<div>\n",
       "<style scoped>\n",
       "    .dataframe tbody tr th:only-of-type {\n",
       "        vertical-align: middle;\n",
       "    }\n",
       "\n",
       "    .dataframe tbody tr th {\n",
       "        vertical-align: top;\n",
       "    }\n",
       "\n",
       "    .dataframe thead th {\n",
       "        text-align: right;\n",
       "    }\n",
       "</style>\n",
       "<table border=\"1\" class=\"dataframe\">\n",
       "  <thead>\n",
       "    <tr style=\"text-align: right;\">\n",
       "      <th></th>\n",
       "      <th>country</th>\n",
       "      <th>date</th>\n",
       "      <th>daily_vaccinations</th>\n",
       "      <th>vaccines</th>\n",
       "    </tr>\n",
       "  </thead>\n",
       "  <tbody>\n",
       "    <tr>\n",
       "      <th>750</th>\n",
       "      <td>Kuwait</td>\n",
       "      <td>12/28/2020</td>\n",
       "      <td>0.0</td>\n",
       "      <td>Pfizer/BioNTech</td>\n",
       "    </tr>\n",
       "  </tbody>\n",
       "</table>\n",
       "</div>"
      ],
      "text/plain": [
       "    country        date  daily_vaccinations         vaccines\n",
       "750  Kuwait  12/28/2020                 0.0  Pfizer/BioNTech"
      ]
     },
     "execution_count": 12,
     "metadata": {},
     "output_type": "execute_result"
    }
   ],
   "source": [
    "def fill_missing_data(pd_data: pd.DataFrame) -> pd.DataFrame:\n",
    "    min_vaccinations = pd_data.groupby('country')['daily_vaccinations'].transform('min')\n",
    "    pd_data['daily_vaccinations'] = pd_data['daily_vaccinations'].fillna(min_vaccinations).fillna(0)\n",
    "    \n",
    "    return pd_data\n",
    "\n",
    "\n",
    "# Example usage\n",
    "data = load_data()\n",
    "filled_data = fill_missing_data(data)"
   ]
  },
  {
   "cell_type": "code",
   "execution_count": 5,
   "metadata": {},
   "outputs": [
    {
     "data": {
      "text/plain": [
       "country\n",
       "United States    378253.0\n",
       "China            276786.0\n",
       "India            173922.0\n",
       "Name: daily_vaccinations, dtype: float64"
      ]
     },
     "execution_count": 5,
     "metadata": {},
     "output_type": "execute_result"
    }
   ],
   "source": [
    "def get_top3_medians(pd_data: pd.DataFrame) -> pd.DataFrame:\n",
    "    top3 = pd_data.groupby('country')['daily_vaccinations'].median().sort_values(ascending=False).head(3)\n",
    "    return top3\n",
    "\n",
    "# Example usage\n",
    "top3 = get_top3_medians(filled_data)\n",
    "top3\n"
   ]
  },
  {
   "cell_type": "code",
   "execution_count": 11,
   "metadata": {},
   "outputs": [
    {
     "data": {
      "text/html": [
       "<div>\n",
       "<style scoped>\n",
       "    .dataframe tbody tr th:only-of-type {\n",
       "        vertical-align: middle;\n",
       "    }\n",
       "\n",
       "    .dataframe tbody tr th {\n",
       "        vertical-align: top;\n",
       "    }\n",
       "\n",
       "    .dataframe thead th {\n",
       "        text-align: right;\n",
       "    }\n",
       "</style>\n",
       "<table border=\"1\" class=\"dataframe\">\n",
       "  <thead>\n",
       "    <tr style=\"text-align: right;\">\n",
       "      <th></th>\n",
       "      <th>date</th>\n",
       "      <th>daily_vaccinations</th>\n",
       "    </tr>\n",
       "  </thead>\n",
       "  <tbody>\n",
       "    <tr>\n",
       "      <th>24</th>\n",
       "      <td>2021-01-06</td>\n",
       "      <td>1485255.0</td>\n",
       "    </tr>\n",
       "  </tbody>\n",
       "</table>\n",
       "</div>"
      ],
      "text/plain": [
       "         date  daily_vaccinations\n",
       "24 2021-01-06           1485255.0"
      ]
     },
     "execution_count": 11,
     "metadata": {},
     "output_type": "execute_result"
    }
   ],
   "source": [
    "def get_vaccination_by_date(pd_data: pd.DataFrame) -> pd.DataFrame:\n",
    "    pd_data['date'] = pd.to_datetime(pd_data['date'])\n",
    "    pd_data = pd_data.groupby('date')['daily_vaccinations'].sum().reset_index()\n",
    "    return pd_data\n",
    "\n",
    "# Example usage\n",
    "vaccination_by_date = get_vaccination_by_date(filled_data)\n",
    "vaccination_by_date[vaccination_by_date['date'] == '2021-01-06']"
   ]
  },
  {
   "cell_type": "code",
   "execution_count": 14,
   "metadata": {
    "vscode": {
     "languageId": "sql"
    }
   },
   "outputs": [
    {
     "ename": "NameError",
     "evalue": "name 'SELECT' is not defined",
     "output_type": "error",
     "traceback": [
      "\u001b[0;31m---------------------------------------------------------------------------\u001b[0m",
      "\u001b[0;31mNameError\u001b[0m                                 Traceback (most recent call last)",
      "Cell \u001b[0;32mIn[14], line 1\u001b[0m\n\u001b[0;32m----> 1\u001b[0m \u001b[43mSELECT\u001b[49m\n",
      "\u001b[0;31mNameError\u001b[0m: name 'SELECT' is not defined"
     ]
    }
   ],
   "source": [
    "WITH MedianValues AS (\n",
    "    SELECT\n",
    "        country,\n",
    "        PERCENTILE_CONT(0.5) WITHIN GROUP (ORDER BY daily_vaccinations) AS median_vaccination\n",
    "    FROM\n",
    "        vaccination_data\n",
    "    WHERE\n",
    "        daily_vaccinations IS NOT NULL\n",
    "    GROUP BY\n",
    "        country\n",
    ")\n",
    "\n",
    "-- Update the main table with the median values\n",
    "UPDATE vaccination_data\n",
    "SET daily_vaccinations = COALESCE(\n",
    "    (SELECT median_vaccination FROM MedianValues WHERE vaccination_data.country = MedianValues.country),\n",
    "    0\n",
    ")\n",
    "WHERE\n",
    "    daily_vaccinations IS NULL;"
   ]
  }
 ],
 "metadata": {
  "kernelspec": {
   "display_name": "Python 3",
   "language": "python",
   "name": "python3"
  },
  "language_info": {
   "codemirror_mode": {
    "name": "ipython",
    "version": 3
   },
   "file_extension": ".py",
   "mimetype": "text/x-python",
   "name": "python",
   "nbconvert_exporter": "python",
   "pygments_lexer": "ipython3",
   "version": "3.12.3"
  }
 },
 "nbformat": 4,
 "nbformat_minor": 2
}
